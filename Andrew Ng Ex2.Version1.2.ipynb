{
 "cells": [
  {
   "cell_type": "code",
   "execution_count": 2,
   "metadata": {
    "collapsed": false
   },
   "outputs": [],
   "source": [
    "import numpy as np\n",
    "import matplotlib.pyplot as plt\n",
    "from scipy.optimize import minimize\n",
    "from __future__ import division "
   ]
  },
  {
   "cell_type": "code",
   "execution_count": 3,
   "metadata": {
    "collapsed": false
   },
   "outputs": [],
   "source": [
    "data =np.loadtxt('C:/Users/Santhosh/Documents/Andrew NG Machine Learning/Week 2/ex2data1.txt',delimiter=',')"
   ]
  },
  {
   "cell_type": "code",
   "execution_count": 4,
   "metadata": {
    "collapsed": false
   },
   "outputs": [
    {
     "data": {
      "text/plain": [
       "array([[ 30.28671077,  43.89499752,   0.        ],\n",
       "       [ 35.84740877,  72.90219803,   0.        ],\n",
       "       [ 60.18259939,  86.3085521 ,   1.        ],\n",
       "       [ 79.03273605,  75.34437644,   1.        ],\n",
       "       [ 45.08327748,  56.31637178,   0.        ]])"
      ]
     },
     "execution_count": 4,
     "metadata": {},
     "output_type": "execute_result"
    }
   ],
   "source": [
    "data[1:6,]"
   ]
  },
  {
   "cell_type": "code",
   "execution_count": 5,
   "metadata": {
    "collapsed": false
   },
   "outputs": [],
   "source": [
    "x =np.c_[np.ones(data.shape[0]),data[:,0:2]]"
   ]
  },
  {
   "cell_type": "code",
   "execution_count": 6,
   "metadata": {
    "collapsed": false
   },
   "outputs": [],
   "source": [
    "y=np.c_[data[:,2]]"
   ]
  },
  {
   "cell_type": "code",
   "execution_count": 7,
   "metadata": {
    "collapsed": true
   },
   "outputs": [],
   "source": [
    "def sigmoid(z):\n",
    "    return(1/(1+np.exp(-z)))"
   ]
  },
  {
   "cell_type": "code",
   "execution_count": 8,
   "metadata": {
    "collapsed": false
   },
   "outputs": [],
   "source": [
    "def costfunction(theta,x,y):\n",
    "    m=y.size\n",
    "    h=sigmoid(x.dot(theta))\n",
    "    i = (np.log(h).T.dot(y) + np.log(1-h).T.dot(1-y)) \n",
    "    J = i * (-1/m) \n",
    "    if np.isnan(J[0]):\n",
    "        return(np.inf)\n",
    "    return(J[0])"
   ]
  },
  {
   "cell_type": "code",
   "execution_count": 9,
   "metadata": {
    "collapsed": true
   },
   "outputs": [],
   "source": [
    "def gradient(theta,x,y):\n",
    "    m=y.size\n",
    "    h=sigmoid(x.dot(theta.reshape(-1,1)))\n",
    "    grad = (x.T.dot(h-y)) * 1/m\n",
    "    return(grad.flatten())"
   ]
  },
  {
   "cell_type": "code",
   "execution_count": 10,
   "metadata": {
    "collapsed": false
   },
   "outputs": [
    {
     "data": {
      "text/plain": [
       "(3L,)"
      ]
     },
     "execution_count": 10,
     "metadata": {},
     "output_type": "execute_result"
    }
   ],
   "source": [
    "initial_theta = np.zeros(x.shape[1])\n",
    "initial_theta.shape"
   ]
  },
  {
   "cell_type": "code",
   "execution_count": 11,
   "metadata": {
    "collapsed": false
   },
   "outputs": [
    {
     "name": "stderr",
     "output_type": "stream",
     "text": [
      "C:\\Users\\Santhosh\\Anaconda2\\lib\\site-packages\\ipykernel\\__main__.py:4: RuntimeWarning: divide by zero encountered in log\n"
     ]
    },
    {
     "data": {
      "text/plain": [
       "array([-25.16133401,   0.20623172,   0.2014716 ])"
      ]
     },
     "execution_count": 11,
     "metadata": {},
     "output_type": "execute_result"
    }
   ],
   "source": [
    "res = minimize(costfunction,initial_theta,args=(x,y),method=None,jac=gradient,options ={'maxiter':300})\n",
    "res.x"
   ]
  },
  {
   "cell_type": "code",
   "execution_count": 12,
   "metadata": {
    "collapsed": false
   },
   "outputs": [
    {
     "name": "stdout",
     "output_type": "stream",
     "text": [
      "[-25.16133401   0.20623172   0.2014716 ]\n",
      "(3L,)\n",
      "[-25.16133401   0.20623172   0.2014716 ]\n",
      "(3L,)\n"
     ]
    }
   ],
   "source": [
    "print(res.x)\n",
    "print(res.x.shape)\n",
    "print(res.x.T)\n",
    "print(res.x.T.shape)"
   ]
  },
  {
   "cell_type": "code",
   "execution_count": 13,
   "metadata": {
    "collapsed": true
   },
   "outputs": [],
   "source": [
    "def predict(theta,x,threshold = 0.5):\n",
    "    pred = sigmoid(x.dot(theta.T)) >= threshold\n",
    "    return(pred.astype('int'))\n",
    " "
   ]
  },
  {
   "cell_type": "code",
   "execution_count": 14,
   "metadata": {
    "collapsed": false
   },
   "outputs": [
    {
     "name": "stdout",
     "output_type": "stream",
     "text": [
      "Accuracy:89.0%\n"
     ]
    }
   ],
   "source": [
    "prob = predict(res.x,x)\n",
    "print('Accuracy:{}%'.format(np.mean(prob ==y.ravel())*100))"
   ]
  },
  {
   "cell_type": "code",
   "execution_count": 15,
   "metadata": {
    "collapsed": false
   },
   "outputs": [],
   "source": [
    "def regcostfunction(theta,reg,x,y):\n",
    "    m=y.size\n",
    "    h=sigmoid(x.dot(theta))\n",
    "    J = -1 * 1/m * (np.log(h).T.dot(y)+np.log(1-h).T.dot(1-y)) + (reg *1/(2*m) * np.sum( np.square(theta[1:]) ))\n",
    "    #if np.isnan(J[0]):\n",
    "        #return(np.inf)\n",
    "    return(J)"
   ]
  },
  {
   "cell_type": "code",
   "execution_count": 16,
   "metadata": {
    "collapsed": false
   },
   "outputs": [],
   "source": [
    "def reggradient(theta,reg,x,y):\n",
    "    m=y.size\n",
    "    h=sigmoid(x.dot(theta.reshape(-1,1)))\n",
    "    grad = ( x.T.dot(h-y)*(1/m) ) + ( np.r_[[[0]],theta[1:].reshape(-1,1)] * (reg/m) )\n",
    "    return(grad.flatten())"
   ]
  },
  {
   "cell_type": "code",
   "execution_count": 17,
   "metadata": {
    "collapsed": true
   },
   "outputs": [],
   "source": [
    "data2 =np.loadtxt('C:/Users/Santhosh/Documents/Andrew NG Machine Learning/Week 2/ex2data2.txt',delimiter=',')"
   ]
  },
  {
   "cell_type": "code",
   "execution_count": 18,
   "metadata": {
    "collapsed": true
   },
   "outputs": [],
   "source": [
    "from sklearn.preprocessing import PolynomialFeatures"
   ]
  },
  {
   "cell_type": "code",
   "execution_count": 19,
   "metadata": {
    "collapsed": false
   },
   "outputs": [],
   "source": [
    "#x1 = np.c_[np.ones(data1.shape[0]),data1[:,0:2]]\n",
    "poly = PolynomialFeatures(6)\n",
    "XX = poly.fit_transform(data2[:,0:2])\n",
    "y = np.c_[data2[:,2]]\n",
    "X = data2[:,0:2]"
   ]
  },
  {
   "cell_type": "code",
   "execution_count": 20,
   "metadata": {
    "collapsed": false
   },
   "outputs": [],
   "source": [
    "initial_theta = np.zeros(XX.shape[1])\n",
    "#p=np.zeros((x1.shape[0],3))"
   ]
  },
  {
   "cell_type": "code",
   "execution_count": 21,
   "metadata": {
    "collapsed": true
   },
   "outputs": [],
   "source": [
    "neg=data2[:,2]==0\n",
    "pos=data2[:,2]==1"
   ]
  },
  {
   "cell_type": "code",
   "execution_count": 22,
   "metadata": {
    "collapsed": false
   },
   "outputs": [],
   "source": [
    "%matplotlib inline\n",
    "\n",
    "import seaborn as sns\n",
    "sns.set_context('notebook')\n",
    "sns.set_style('white')"
   ]
  },
  {
   "cell_type": "code",
   "execution_count": 23,
   "metadata": {
    "collapsed": true
   },
   "outputs": [],
   "source": [
    "def plotData(data, label_x, label_y, label_pos, label_neg, axes=None):\n",
    "    # Get indexes for class 0 and class 1\n",
    "    neg = data[:,2] == 0\n",
    "    pos = data[:,2] == 1\n",
    "    \n",
    "    # If no specific axes object has been passed, get the current axes.\n",
    "    if axes == None:\n",
    "        axes = plt.gca()\n",
    "    axes.scatter(data[pos][:,0], data[pos][:,1], marker='+', c='k', s=60, linewidth=2, label=label_pos)\n",
    "    axes.scatter(data[neg][:,0], data[neg][:,1], c='y', s=60, label=label_neg)\n",
    "    axes.set_xlabel(label_x)\n",
    "    axes.set_ylabel(label_y)\n",
    "    axes.legend(frameon= True, fancybox = True);"
   ]
  },
  {
   "cell_type": "code",
   "execution_count": 24,
   "metadata": {
    "collapsed": false
   },
   "outputs": [
    {
     "name": "stderr",
     "output_type": "stream",
     "text": [
      "C:\\Users\\Santhosh\\Anaconda2\\lib\\site-packages\\matplotlib\\collections.py:650: FutureWarning: elementwise comparison failed; returning scalar instead, but in the future will perform elementwise comparison\n",
      "  if self._edgecolors_original != str('face'):\n",
      "C:\\Users\\Santhosh\\Anaconda2\\lib\\site-packages\\matplotlib\\collections.py:590: FutureWarning: elementwise comparison failed; returning scalar instead, but in the future will perform elementwise comparison\n",
      "  if self._edgecolors == str('face'):\n"
     ]
    },
    {
     "data": {
      "image/png": "[encoded data removed]",
      "text/plain": [
       "<matplotlib.figure.Figure at 0x9495b70>"
      ]
     },
     "metadata": {},
     "output_type": "display_data"
    }
   ],
   "source": [
    "fig, axes = plt.subplots(1,3, sharey = True, figsize=(15,5))\n",
    "for i, c in enumerate([0,1,10]):\n",
    "    res1= minimize(regcostfunction,initial_theta,args=(c,XX,y),method=None,jac=reggradient,options={'maxiter':3000})\n",
    "    prob = predict(res1.x,XX)\n",
    "    accuracy = np.mean(prob ==y.ravel())*100\n",
    "    #print('Accuracy:{}% with lambda{}'.format(accuracy,c))\n",
    "    #plt.scatter(data2[neg][:,0], data2[neg][:,1],s=60,c='r',marker='x',linewidths=1)\n",
    "    #plt.scatter(data2[pos][:,0], data2[pos][:,1],s=60,c='b',marker='+',linewidths=1)\n",
    "    plotData(data2, 'Microchip Test 1', 'Microchip Test 2', 'y = 1', 'y = 0', axes.flatten()[i])\n",
    "    x1_min,x1_max = X[:,0].min(),X[:,0].max()\n",
    "    x2_min,x2_max = X[:,1].min(),X[:,1].max()\n",
    "    xx1,xx2 = np.meshgrid(np.linspace(x1_min,x1_max),np.linspace(x2_min,x2_max))\n",
    "    h=sigmoid(poly.fit_transform(np.c_[xx1.ravel(),xx2.ravel()]).dot(res1.x))\n",
    "    h= h.reshape(xx1.shape)\n",
    "\n",
    "    #plt.xlabel('Microship Test1')\n",
    "    #plt.xlabel('Microship Test2')\n",
    "    axes.flatten()[i].contour(xx1,xx2,h,[0.5],linewidths=1,colors='g')\n",
    "    axes.flatten()[i].set_title('Accuracy:{}% with lambda{}'.format(accuracy,c))\n",
    "    \n"
   ]
  },
  {
   "cell_type": "code",
   "execution_count": 25,
   "metadata": {
    "collapsed": false
   },
   "outputs": [
    {
     "name": "stdout",
     "output_type": "stream",
     "text": [
      "Accuracy:74.5762711864%\n"
     ]
    }
   ],
   "source": [
    "prob = predict(res1.x,XX)\n",
    "print('Accuracy:{}%'.format(np.mean(prob ==y.ravel())*100))"
   ]
  },
  {
   "cell_type": "code",
   "execution_count": null,
   "metadata": {
    "collapsed": true
   },
   "outputs": [],
   "source": []
  }
 ],
 "metadata": {
  "kernelspec": {
   "display_name": "Python 2",
   "language": "python",
   "name": "python2"
  },
  "language_info": {
   "codemirror_mode": {
    "name": "ipython",
    "version": 2
   },
   "file_extension": ".py",
   "mimetype": "text/x-python",
   "name": "python",
   "nbconvert_exporter": "python",
   "pygments_lexer": "ipython2",
   "version": "2.7.12"
  }
 },
 "nbformat": 4,
 "nbformat_minor": 0
}
