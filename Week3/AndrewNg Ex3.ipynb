{
 "cells": [
  {
   "cell_type": "code",
   "execution_count": 1,
   "metadata": {
    "collapsed": false
   },
   "outputs": [],
   "source": [
    "import numpy as np\n",
    "from __future__ import division\n",
    "from scipy.io import loadmat\n",
    "from scipy.optimize import minimize\n",
    "import pandas as pd\n",
    "import csv"
   ]
  },
  {
   "cell_type": "code",
   "execution_count": null,
   "metadata": {
    "collapsed": false
   },
   "outputs": [],
   "source": [
    "import hdf5storage"
   ]
  },
  {
   "cell_type": "code",
   "execution_count": 16,
   "metadata": {
    "collapsed": false
   },
   "outputs": [],
   "source": [
    "data = pd.read_csv('C:/Users/Santhosh/Documents/Andrew NG Machine Learning/Week3/ex3data1.csv')\n"
   ]
  },
  {
   "cell_type": "code",
   "execution_count": 46,
   "metadata": {
    "collapsed": false
   },
   "outputs": [],
   "source": [
    "#weights = hdf5storage.loadmat('C:/Users/Santhosh/Documents/Andrew NG Machine Learning/Week3/ex3weights.mat')\n",
    "data.shape\n",
    "y = np.c_[data['y']]\n"
   ]
  },
  {
   "cell_type": "code",
   "execution_count": 47,
   "metadata": {
    "collapsed": false
   },
   "outputs": [
    {
     "data": {
      "text/plain": [
       "(5000L, 1L)"
      ]
     },
     "execution_count": 47,
     "metadata": {},
     "output_type": "execute_result"
    }
   ],
   "source": [
    "y.shape"
   ]
  },
  {
   "cell_type": "code",
   "execution_count": 20,
   "metadata": {
    "collapsed": false
   },
   "outputs": [
    {
     "data": {
      "text/plain": [
       "(5000L, 401L)"
      ]
     },
     "execution_count": 20,
     "metadata": {},
     "output_type": "execute_result"
    }
   ],
   "source": [
    "cols = [col for col in data.columns if col not in ['y']]\n",
    "df = data[cols]\n",
    "#x = data['X']\n",
    "x = np.c_[np.ones((df.shape[0],1)),df]\n",
    "x.shape"
   ]
  },
  {
   "cell_type": "code",
   "execution_count": 24,
   "metadata": {
    "collapsed": true
   },
   "outputs": [],
   "source": [
    "def sigmoid(z):\n",
    "    return(1/(1 + np.exp(-z)))"
   ]
  },
  {
   "cell_type": "code",
   "execution_count": 25,
   "metadata": {
    "collapsed": true
   },
   "outputs": [],
   "source": [
    "def costfunctionreg(theta,reg,x,y):\n",
    "    m=y.size\n",
    "    h=sigmoid(x.dot(theta))\n",
    "    J = -1 * 1/m * (np.log(h).T.dot(y)+np.log(1-h).T.dot(1-y)) + ( reg * 1/(2*m) * np.sum(np.square(theta[1:])) )\n",
    "    if np.isnan(J[0]):\n",
    "        return(np.inf)\n",
    "    return(J[0])"
   ]
  },
  {
   "cell_type": "code",
   "execution_count": 35,
   "metadata": {
    "collapsed": false
   },
   "outputs": [],
   "source": [
    "def gradientreg(theta,reg,x,y):\n",
    "    m=y.size\n",
    "    h=sigmoid(x.dot(theta.reshape(-1,1)))\n",
    "    grad = ( 1/m * x.T.dot(h-y) ) + ( (reg/m) * np.r_[[[0]],theta[1:].reshape(-1,1)])\n",
    "    return(grad.flatten())\n",
    "    "
   ]
  },
  {
   "cell_type": "code",
   "execution_count": 42,
   "metadata": {
    "collapsed": false
   },
   "outputs": [],
   "source": [
    "def onevsall(features,classes,labels,reg):\n",
    "    initial_theta = np.zeros((x.shape[1],1))\n",
    "    all_theta = np.zeros((labels,x.shape[1]))\n",
    "    for c in np.arange(1,labels+1):\n",
    "        res = minimize(costfunctionreg,initial_theta,args=(reg,x,(classes==c)*1),method=None,jac=gradientreg,options={'maxiter':50})\n",
    "        all_theta[c-1]=res.x\n",
    "    return(all_theta)\n",
    "    "
   ]
  },
  {
   "cell_type": "code",
   "execution_count": 49,
   "metadata": {
    "collapsed": true
   },
   "outputs": [],
   "source": [
    "def predictonevsall(theta,x):\n",
    "    p= sigmoid(x.dot(theta.T))\n",
    "    return(np.argmax(p,axis=1)+1)"
   ]
  },
  {
   "cell_type": "code",
   "execution_count": 48,
   "metadata": {
    "collapsed": false
   },
   "outputs": [],
   "source": [
    " theta = onevsall(x,y,10,0.1)"
   ]
  },
  {
   "cell_type": "code",
   "execution_count": 50,
   "metadata": {
    "collapsed": false
   },
   "outputs": [
    {
     "name": "stdout",
     "output_type": "stream",
     "text": [
      "Training set accuracy: 93.18 %\n"
     ]
    }
   ],
   "source": [
    "pred = predictonevsall(theta, x)\n",
    "print('Training set accuracy: {} %'.format(np.mean(pred == y.ravel())*100))"
   ]
  },
  {
   "cell_type": "code",
   "execution_count": 55,
   "metadata": {
    "collapsed": false
   },
   "outputs": [],
   "source": [
    "theta1 =pd.read_csv('C:/Users/Santhosh/Documents/Andrew NG Machine Learning/Week3/theta1.csv')\n",
    "theta2 =pd.read_csv('C:/Users/Santhosh/Documents/Andrew NG Machine Learning/Week3/theta2.csv')"
   ]
  },
  {
   "cell_type": "code",
   "execution_count": 58,
   "metadata": {
    "collapsed": false
   },
   "outputs": [],
   "source": [
    "def predictNN(theta1,theta2,x):\n",
    "    z2 = x.dot(theta1.T)\n",
    "    print(z2.shape)\n",
    "    print(sigmoid(z2).shape)\n",
    "    a2 = np.c_[np.ones((z2.shape[0],1)),sigmoid(z2)]\n",
    "    z3 = a2.dot(theta2.T)\n",
    "    a3=sigmoid(z3)\n",
    "    return(np.argmax(a3,axis=1)+1)\n",
    "    "
   ]
  },
  {
   "cell_type": "code",
   "execution_count": 59,
   "metadata": {
    "collapsed": false
   },
   "outputs": [
    {
     "name": "stdout",
     "output_type": "stream",
     "text": [
      "(5000L, 25L)\n",
      "(5000L, 25L)\n"
     ]
    }
   ],
   "source": [
    "pred = predictNN(theta1,theta2,x)"
   ]
  },
  {
   "cell_type": "code",
   "execution_count": 60,
   "metadata": {
    "collapsed": false
   },
   "outputs": [
    {
     "name": "stdout",
     "output_type": "stream",
     "text": [
      "Accuracy: 97.52%\n"
     ]
    }
   ],
   "source": [
    "print('Accuracy: {}%'.format(np.mean(pred==y.ravel())*100))"
   ]
  },
  {
   "cell_type": "code",
   "execution_count": 61,
   "metadata": {
    "collapsed": false
   },
   "outputs": [
    {
     "data": {
      "text/plain": [
       "(25, 401)"
      ]
     },
     "execution_count": 61,
     "metadata": {},
     "output_type": "execute_result"
    }
   ],
   "source": [
    "theta1.shape"
   ]
  },
  {
   "cell_type": "code",
   "execution_count": 62,
   "metadata": {
    "collapsed": false
   },
   "outputs": [
    {
     "data": {
      "text/plain": [
       "(5000L, 401L)"
      ]
     },
     "execution_count": 62,
     "metadata": {},
     "output_type": "execute_result"
    }
   ],
   "source": [
    "x.shape"
   ]
  },
  {
   "cell_type": "code",
   "execution_count": 63,
   "metadata": {
    "collapsed": false
   },
   "outputs": [
    {
     "data": {
      "text/plain": [
       "(26, 10)"
      ]
     },
     "execution_count": 63,
     "metadata": {},
     "output_type": "execute_result"
    }
   ],
   "source": [
    "theta2.T.shape"
   ]
  },
  {
   "cell_type": "code",
   "execution_count": null,
   "metadata": {
    "collapsed": true
   },
   "outputs": [],
   "source": []
  }
 ],
 "metadata": {
  "kernelspec": {
   "display_name": "Python 2",
   "language": "python",
   "name": "python2"
  },
  "language_info": {
   "codemirror_mode": {
    "name": "ipython",
    "version": 2
   },
   "file_extension": ".py",
   "mimetype": "text/x-python",
   "name": "python",
   "nbconvert_exporter": "python",
   "pygments_lexer": "ipython2",
   "version": "2.7.12"
  }
 },
 "nbformat": 4,
 "nbformat_minor": 0
}
